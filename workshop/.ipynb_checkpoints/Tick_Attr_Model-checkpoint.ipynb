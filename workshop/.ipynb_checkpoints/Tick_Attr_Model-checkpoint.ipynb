{
 "cells": [
  {
   "cell_type": "code",
   "execution_count": 1,
   "metadata": {
    "collapsed": false
   },
   "outputs": [
    {
     "name": "stderr",
     "output_type": "stream",
     "text": [
      "C:\\Users\\Xiao\\Miniconda3\\envs\\athena\\lib\\site-packages\\matplotlib\\cbook.py:136: MatplotlibDeprecationWarning: The finance module has been deprecated in mpl 2.0 and will be removed in mpl 2.2. Please use the module mpl_finance instead.\n",
      "  warnings.warn(message, mplDeprecation, stacklevel=1)\n"
     ]
    }
   ],
   "source": [
    "import sys\n",
    "import os\n",
    "cwd = os.path.dirname(os.getcwd())\n",
    "sys.path.append(cwd)\n",
    "import numpy as np\n",
    "import tushare as ts\n",
    "import matplotlib.pyplot as plt\n",
    "import seaborn as sns\n",
    "import pandas as pd\n",
    "import analyst as al\n",
    "import assistant as at\n",
    "import messenger as ms\n",
    "import datetime\n",
    "import trader as tr\n",
    "import random\n",
    "%matplotlib inline\n",
    "sns.set()"
   ]
  },
  {
   "cell_type": "code",
   "execution_count": 2,
   "metadata": {
    "collapsed": false
   },
   "outputs": [],
   "source": [
    "# 买盘与卖盘比例\n",
    "def buy_rate(df):\n",
    "    result = df['type'].value_counts()['买盘'] / len(df)\n",
    "    return result\n",
    "\n",
    "# 根据条件筛选DF\n",
    "def _subset(df, cls='volume', percent=0.05, top=True):\n",
    "    if top == True:\n",
    "        sig = df[cls].quantile(1-percent)\n",
    "        df = df.loc[df[cls]>sig, :]\n",
    "    if top == False:\n",
    "        sig = df[cls].quantile(percent)\n",
    "        df = df.loc[df[cls]<sig, :]\n",
    "    return df\n",
    "\n",
    "# 集中度\n",
    "def central_tendency(df, cls='volume', percent=0.05):\n",
    "    sub = _subset(df, cls, percent)\n",
    "    result = sub[cls].sum() / df[cls].sum()\n",
    "    return result\n",
    "\n",
    "# 资金流向\n",
    "def net_flow(df):\n",
    "    in_amount = df.loc[df['type']=='买盘', :]['amount'].sum()\n",
    "    out_amount = df.loc[df['type']=='卖盘', :]['amount'].sum()\n",
    "    net_amount = in_amount - out_amount\n",
    "    return net_amount\n",
    "\n",
    "# 价格变化\n",
    "def act_price_change(df):\n",
    "    price_list = df['price'].tolist()\n",
    "    price_change = price_list[0] - price_list[-1]\n",
    "    return price_change\n",
    "\n",
    "# 资金导致的价格变动\n",
    "def theo_price_change(df):\n",
    "    result = net_flow(df) / df['volume'].sum() / 100\n",
    "    return result\n",
    "\n",
    "# 资金振幅\n",
    "def max_price_change(df):\n",
    "    price_list = df['price'].tolist()\n",
    "    result = max(price_list) - min(price_list)\n",
    "    return result\n",
    "\n",
    "# 获的characteristics\n",
    "def get_characteristics(df, top_percent=0.05, bottom_percent=0.5, cls='volume'):\n",
    "    dic = {}\n",
    "    dic['act_price_change'] = act_price_change(df)\n",
    "    dic['theo_price_change'] = theo_price_change(df)\n",
    "    dic['resistence'] = dic['theo_price_change'] - dic['act_price_change']\n",
    "    dic['buy_rate'] = buy_rate(df)\n",
    "    dic['central_tendency'] = central_tendency(df, cls, top_percent)\n",
    "    dic['net_flow'] = net_flow(df)\n",
    "    dic['open'] = df['price'].tolist()[len(df) - 1]\n",
    "    dic['close'] = df['price'].tolist()[0]\n",
    "    dic['high'] = max(df['price'].tolist())\n",
    "    dic['low'] = min(df['price'].tolist())\n",
    "    \n",
    "    df_top = _subset(df, cls, top_percent)\n",
    "    dic['top_buy_rate'] = buy_rate(df_top)\n",
    "    dic['top_net_flow'] = net_flow(df_top)\n",
    "    \n",
    "    df_bottom = _subset(df, cls, bottom_percent, False)\n",
    "    dic['bottom_buy_rate'] = buy_rate(df_bottom)\n",
    "    dic['bottom_net_flow'] = net_flow(df_bottom)\n",
    "    \n",
    "    return dic\n",
    "\n",
    "def get_dataframe(code, start_date='', duration=30, top_percent=0.05, bottom_percent=0.5, cls='volume', multi_threads=20):\n",
    "    days_list = at.opening_days(days=duration, start_date=start_date, multi_threads=multi_threads)\n",
    "    lis = []\n",
    "    for i in days_list:\n",
    "        try:\n",
    "            dicc = {}\n",
    "            dicc['date'] = i\n",
    "            dicc['code'] = code\n",
    "            df = ms.get_tick_data(code, i)\n",
    "            dic = get_characteristics(df, top_percent, bottom_percent, cls)\n",
    "            dic.update(dicc)\n",
    "            lis.append(dic)\n",
    "        except:\n",
    "            pass\n",
    "    frame = pd.DataFrame(lis)\n",
    "    frame = frame[[\n",
    "        'code', 'date', 'open', 'close', 'high', 'low', 'act_price_change', 'theo_price_change', 'resistence', 'buy_rate', \n",
    "        'central_tendency', 'net_flow', 'top_buy_rate', 'top_net_flow', 'bottom_buy_rate', 'bottom_net_flow'\n",
    "    ]]\n",
    "    return frame\n",
    "\n",
    "def to_same_scale(val, lis):\n",
    "    mean_val = np.mean(lis)\n",
    "    min_val = min(lis)\n",
    "    max_val = max(lis)\n",
    "    result = (val - mean_val) / (max_val - min_val)\n",
    "    return result\n",
    "\n",
    "# 把DF分成若干等份\n",
    "def split_frame(df, length):\n",
    "    df_list = []\n",
    "    for i in range(0, len(df)-length):\n",
    "        df_list.append(df.loc[i: i+length, :])\n",
    "    return df_list\n",
    "\n",
    "# 计算特征得分\n",
    "def get_score(df, col, thread=0):\n",
    "    score = len(df[df[col]>thread]) / len(df)\n",
    "    return score\n",
    "\n",
    "# 提取特征函数\n",
    "def get_features(df):\n",
    "    dic = {}\n",
    "    dic['emotion'] = get_score(df, 'smoothed difference')\n",
    "    dic['cash'] = get_score(df, 'smoothed actual')\n",
    "    dic['close'] = np.average(df['close'])\n",
    "    dic['volume'] = np.max(df['volume'])\n",
    "    return dic"
   ]
  },
  {
   "cell_type": "code",
   "execution_count": 3,
   "metadata": {
    "collapsed": true
   },
   "outputs": [],
   "source": [
    "# 获取最终特征DF\n",
    "def get_prepared(df, up_thread=0.02, days_after=5):\n",
    "    dfc = pd.DataFrame.copy(df)\n",
    "    dfc['net_flow'] = dfc['net_flow'].apply(lambda x: to_same_scale(x, dfc['net_flow'].tolist()))\n",
    "    dfc['top_net_flow'] = dfc['top_net_flow'].apply(lambda x: to_same_scale(x, dfc['net_flow'].tolist()))\n",
    "    dfc['bottom_net_flow'] = dfc['bottom_net_flow'].apply(lambda x: to_same_scale(x, dfc['bottom_net_flow'].tolist()))\n",
    "    dfc['resistence'] = dfc['resistence'].apply(lambda x: to_same_scale(x, dfc['resistence'].tolist()))\n",
    "    \n",
    "    dfc_list = split_frame(dfc, days_after)\n",
    "    up_thread = up_thread\n",
    "    feature_list = []\n",
    "    for i in dfc_list:\n",
    "        _dict = {}\n",
    "        _dict['code'] = i['code'].tolist()[-1]\n",
    "        _dict['date'] = i['date'].tolist()[-1]\n",
    "        # close_list = i['close'].tolist()\n",
    "        # _dict['close'] = close_list[-1]\n",
    "        # _dict['up'] = int(((close_list[-1] - close_list[0]) / close_list[0]) > up_thread)\n",
    "        _dict['up'] = int(((max(i['high'].tolist()) - i['close'].tolist()[0]) / i['close'].tolist()[0]) > up_thread)\n",
    "        _dict['resistence'] = get_score(i, 'resistence')\n",
    "        _dict['buy_rate'] = get_score(i, 'buy_rate', 0.5)\n",
    "        _dict['central_tendency'] = get_score(i, 'central_tendency', 0.4)\n",
    "        _dict['net_flow'] = get_score(i, 'net_flow')\n",
    "        _dict['top_buy_rate'] = get_score(i, 'top_buy_rate', 0.5)\n",
    "        _dict['top_net_flow'] = get_score(i, 'top_net_flow')\n",
    "        _dict['bottom_buy_rate'] = get_score(i, 'bottom_buy_rate', 0.5)\n",
    "        _dict['bottom_net_flow'] = get_score(i, 'bottom_net_flow')\n",
    "        feature_list.append(_dict)\n",
    "        \n",
    "    return pd.DataFrame(feature_list)"
   ]
  },
  {
   "cell_type": "code",
   "execution_count": 4,
   "metadata": {
    "collapsed": true
   },
   "outputs": [],
   "source": [
    "from sklearn.linear_model import LogisticRegression\n",
    "from sklearn.model_selection import cross_val_score, cross_val_predict, StratifiedKFold\n",
    "from sklearn.metrics import confusion_matrix, roc_curve, auc\n",
    "import itertools\n",
    "\n",
    "# model selection函数\n",
    "def model_performance(clf, df, x_col, y_col, folds=5):\n",
    "    x_set = df.loc[ :, x_col]\n",
    "    y_set = df.loc[ :, y_col]\n",
    "    \n",
    "    # 构建所有可能的组合\n",
    "    combinations = []\n",
    "    for i in range(1, len(x_col)+1):\n",
    "        combinations += (list(itertools.combinations(x_col, i)))\n",
    "    \n",
    "    y_set = df.loc[ :, y_col]\n",
    "    selection_results = []\n",
    "    \n",
    "    for j in combinations:\n",
    "\n",
    "        x_set = df.loc[ :, j]\n",
    "\n",
    "        dic = {}\n",
    "\n",
    "        # 获取选用的attribute\n",
    "        for k in x_col:\n",
    "            if k in j:\n",
    "                dic[k] = 1\n",
    "            else:\n",
    "                dic[k] = 0\n",
    "\n",
    "        dic['parameters'] = len(j)\n",
    "\n",
    "        # average cross validation score\n",
    "        dic['cross_val_score'] = np.mean(cross_val_score(clf, x_set, y_set, cv=folds))\n",
    "\n",
    "        # confusion matrix with cross validation\n",
    "        y_pred = cross_val_predict(clf, x_set, y_set, cv=folds)\n",
    "        tn, fp, fn, tp = confusion_matrix(y_set, y_pred).ravel() / len(y_pred) #如果需要加入confusion matrix，dic['confusion_matrix'] = confusion_matrix(y_set, y_pred)\n",
    "        dic['true negative'] = tn\n",
    "        dic['false positive'] = fp\n",
    "        dic['false negative'] = fn\n",
    "        dic['true positive'] = tp\n",
    "\n",
    "        # roc-auc with cross validation\n",
    "        cv = StratifiedKFold(n_splits=folds)\n",
    "        auc_scores = []\n",
    "        for train, test in cv.split(x_set, y_set): # 此处train, test只是索引\n",
    "            probas_ = clf.fit(x_set.iloc[train], y_set.iloc[train]).predict_proba(x_set.iloc[test])\n",
    "            fpr, tpr, thresholds = roc_curve(y_set.iloc[test], probas_[:, 1])\n",
    "            roc_auc = auc(fpr, tpr) # 如果需要使用roc_auc_score函数，roc_auc_score(y_set.iloc[test], probas_[:, 1])\n",
    "            auc_scores.append(roc_auc)\n",
    "        dic['auc_score_mean'] = np.mean(auc_scores)\n",
    "        dic['auc_score_std'] = np.std(auc_scores)\n",
    "\n",
    "        selection_results.append(dic)\n",
    "\n",
    "    result = pd.DataFrame(selection_results)[[\n",
    "        'parameters', 'cross_val_score', 'auc_score_mean', 'auc_score_std',\n",
    "        'true negative', 'true positive', 'false negative', 'false positive'\n",
    "    ] + x_col]\n",
    "    \n",
    "    return result"
   ]
  },
  {
   "cell_type": "code",
   "execution_count": 5,
   "metadata": {
    "collapsed": false
   },
   "outputs": [],
   "source": [
    "df =  get_dataframe('601318', '2017-11-21', 300)"
   ]
  },
  {
   "cell_type": "code",
   "execution_count": 6,
   "metadata": {
    "collapsed": true
   },
   "outputs": [],
   "source": [
    "feature_df = get_prepared(df, up_thread=0.02, days_after=5)"
   ]
  },
  {
   "cell_type": "code",
   "execution_count": 7,
   "metadata": {
    "collapsed": false
   },
   "outputs": [],
   "source": [
    "clf = LogisticRegression()\n",
    "x_col = ['resistence', 'buy_rate', 'central_tendency', 'net_flow', 'top_buy_rate', 'top_net_flow', 'bottom_buy_rate', 'bottom_net_flow']\n",
    "y_col = 'up'\n",
    "result = model_performance(clf, feature_df, x_col, y_col, 5)"
   ]
  },
  {
   "cell_type": "code",
   "execution_count": 8,
   "metadata": {
    "collapsed": false
   },
   "outputs": [],
   "source": [
    "# result.to_excel('result.xlsx')"
   ]
  },
  {
   "cell_type": "code",
   "execution_count": 9,
   "metadata": {
    "collapsed": false
   },
   "outputs": [],
   "source": [
    "from sklearn.model_selection import train_test_split\n",
    "clf = LogisticRegression()\n",
    "# x_col = ['top_net_flow', 'net_flow', 'top_buy_rate', 'bottom_net_flow']\n",
    "feature_df['intercept'] = 1\n",
    "# x_col = ['central_tendency', 'top_buy_rate', 'intercept']\n",
    "x_col = ['intercept', 'resistence', 'buy_rate', 'central_tendency', 'net_flow', 'top_buy_rate', 'top_net_flow', 'bottom_buy_rate', 'bottom_net_flow']\n",
    "y_col = 'up'\n",
    "x_train = feature_df.loc[ :100, x_col]\n",
    "y_train = feature_df.loc[ :100, y_col]\n",
    "x_test = feature_df.loc[100:, x_col]\n",
    "\n",
    "clf.fit(x_train, y_train)\n",
    "signal_list = clf.predict(x_test)"
   ]
  },
  {
   "cell_type": "code",
   "execution_count": 10,
   "metadata": {
    "collapsed": false,
    "scrolled": true
   },
   "outputs": [],
   "source": [
    "feature_df.loc[100:, ['date']]['signal'] = signal_list"
   ]
  },
  {
   "cell_type": "code",
   "execution_count": 18,
   "metadata": {
    "collapsed": false
   },
   "outputs": [
    {
     "ename": "ValueError",
     "evalue": "Length of values does not match length of index",
     "output_type": "error",
     "traceback": [
      "\u001b[0;31m---------------------------------------------------------------------------\u001b[0m",
      "\u001b[0;31mValueError\u001b[0m                                Traceback (most recent call last)",
      "\u001b[0;32m<ipython-input-18-d0e3d82ba5d0>\u001b[0m in \u001b[0;36m<module>\u001b[0;34m()\u001b[0m\n\u001b[1;32m      8\u001b[0m        \u001b[1;36m0\u001b[0m\u001b[1;33m,\u001b[0m \u001b[1;36m0\u001b[0m\u001b[1;33m,\u001b[0m \u001b[1;36m0\u001b[0m\u001b[1;33m,\u001b[0m \u001b[1;36m0\u001b[0m\u001b[1;33m,\u001b[0m \u001b[1;36m0\u001b[0m\u001b[1;33m,\u001b[0m \u001b[1;36m0\u001b[0m\u001b[1;33m,\u001b[0m \u001b[1;36m0\u001b[0m\u001b[1;33m,\u001b[0m \u001b[1;36m0\u001b[0m\u001b[1;33m,\u001b[0m \u001b[1;36m0\u001b[0m\u001b[1;33m,\u001b[0m \u001b[1;36m0\u001b[0m\u001b[1;33m,\u001b[0m \u001b[1;36m0\u001b[0m\u001b[1;33m,\u001b[0m \u001b[1;36m0\u001b[0m\u001b[1;33m,\u001b[0m \u001b[1;36m0\u001b[0m\u001b[1;33m,\u001b[0m \u001b[1;36m0\u001b[0m\u001b[1;33m,\u001b[0m \u001b[1;36m0\u001b[0m\u001b[1;33m,\u001b[0m \u001b[1;36m0\u001b[0m\u001b[1;33m,\u001b[0m \u001b[1;36m0\u001b[0m\u001b[1;33m,\u001b[0m \u001b[1;36m0\u001b[0m\u001b[1;33m,\u001b[0m \u001b[1;36m0\u001b[0m\u001b[1;33m,\u001b[0m \u001b[1;36m0\u001b[0m\u001b[1;33m,\u001b[0m \u001b[1;36m0\u001b[0m\u001b[1;33m,\u001b[0m \u001b[1;36m0\u001b[0m\u001b[1;33m,\u001b[0m \u001b[1;36m0\u001b[0m\u001b[1;33m,\u001b[0m\u001b[1;33m\u001b[0m\u001b[0m\n\u001b[1;32m      9\u001b[0m        \u001b[1;36m0\u001b[0m\u001b[1;33m,\u001b[0m \u001b[1;36m0\u001b[0m\u001b[1;33m,\u001b[0m \u001b[1;36m0\u001b[0m\u001b[1;33m,\u001b[0m \u001b[1;36m0\u001b[0m\u001b[1;33m,\u001b[0m \u001b[1;36m0\u001b[0m\u001b[1;33m,\u001b[0m \u001b[1;36m0\u001b[0m\u001b[1;33m,\u001b[0m \u001b[1;36m0\u001b[0m\u001b[1;33m,\u001b[0m \u001b[1;36m0\u001b[0m\u001b[1;33m,\u001b[0m \u001b[1;36m0\u001b[0m\u001b[1;33m,\u001b[0m \u001b[1;36m0\u001b[0m\u001b[1;33m,\u001b[0m \u001b[1;36m0\u001b[0m\u001b[1;33m,\u001b[0m \u001b[1;36m0\u001b[0m\u001b[1;33m,\u001b[0m \u001b[1;36m0\u001b[0m\u001b[1;33m,\u001b[0m \u001b[1;36m0\u001b[0m\u001b[1;33m,\u001b[0m \u001b[1;36m0\u001b[0m\u001b[1;33m,\u001b[0m \u001b[1;36m0\u001b[0m\u001b[1;33m,\u001b[0m \u001b[1;36m1\u001b[0m\u001b[1;33m,\u001b[0m \u001b[1;36m1\u001b[0m\u001b[1;33m,\u001b[0m \u001b[1;36m1\u001b[0m\u001b[1;33m,\u001b[0m \u001b[1;36m0\u001b[0m\u001b[1;33m,\u001b[0m \u001b[1;36m1\u001b[0m\u001b[1;33m,\u001b[0m \u001b[1;36m1\u001b[0m\u001b[1;33m,\u001b[0m \u001b[1;36m0\u001b[0m\u001b[1;33m,\u001b[0m\u001b[1;33m\u001b[0m\u001b[0m\n\u001b[0;32m---> 10\u001b[0;31m        0, 0, 0, 1, 1, 1, 1, 1, 1]\n\u001b[0m",
      "\u001b[0;32mC:\\Users\\Xiao\\Miniconda3\\envs\\athena\\lib\\site-packages\\pandas\\core\\frame.py\u001b[0m in \u001b[0;36m__setitem__\u001b[0;34m(self, key, value)\u001b[0m\n\u001b[1;32m   2329\u001b[0m         \u001b[1;32melse\u001b[0m\u001b[1;33m:\u001b[0m\u001b[1;33m\u001b[0m\u001b[0m\n\u001b[1;32m   2330\u001b[0m             \u001b[1;31m# set column\u001b[0m\u001b[1;33m\u001b[0m\u001b[1;33m\u001b[0m\u001b[0m\n\u001b[0;32m-> 2331\u001b[0;31m             \u001b[0mself\u001b[0m\u001b[1;33m.\u001b[0m\u001b[0m_set_item\u001b[0m\u001b[1;33m(\u001b[0m\u001b[0mkey\u001b[0m\u001b[1;33m,\u001b[0m \u001b[0mvalue\u001b[0m\u001b[1;33m)\u001b[0m\u001b[1;33m\u001b[0m\u001b[0m\n\u001b[0m\u001b[1;32m   2332\u001b[0m \u001b[1;33m\u001b[0m\u001b[0m\n\u001b[1;32m   2333\u001b[0m     \u001b[1;32mdef\u001b[0m \u001b[0m_setitem_slice\u001b[0m\u001b[1;33m(\u001b[0m\u001b[0mself\u001b[0m\u001b[1;33m,\u001b[0m \u001b[0mkey\u001b[0m\u001b[1;33m,\u001b[0m \u001b[0mvalue\u001b[0m\u001b[1;33m)\u001b[0m\u001b[1;33m:\u001b[0m\u001b[1;33m\u001b[0m\u001b[0m\n",
      "\u001b[0;32mC:\\Users\\Xiao\\Miniconda3\\envs\\athena\\lib\\site-packages\\pandas\\core\\frame.py\u001b[0m in \u001b[0;36m_set_item\u001b[0;34m(self, key, value)\u001b[0m\n\u001b[1;32m   2395\u001b[0m \u001b[1;33m\u001b[0m\u001b[0m\n\u001b[1;32m   2396\u001b[0m         \u001b[0mself\u001b[0m\u001b[1;33m.\u001b[0m\u001b[0m_ensure_valid_index\u001b[0m\u001b[1;33m(\u001b[0m\u001b[0mvalue\u001b[0m\u001b[1;33m)\u001b[0m\u001b[1;33m\u001b[0m\u001b[0m\n\u001b[0;32m-> 2397\u001b[0;31m         \u001b[0mvalue\u001b[0m \u001b[1;33m=\u001b[0m \u001b[0mself\u001b[0m\u001b[1;33m.\u001b[0m\u001b[0m_sanitize_column\u001b[0m\u001b[1;33m(\u001b[0m\u001b[0mkey\u001b[0m\u001b[1;33m,\u001b[0m \u001b[0mvalue\u001b[0m\u001b[1;33m)\u001b[0m\u001b[1;33m\u001b[0m\u001b[0m\n\u001b[0m\u001b[1;32m   2398\u001b[0m         \u001b[0mNDFrame\u001b[0m\u001b[1;33m.\u001b[0m\u001b[0m_set_item\u001b[0m\u001b[1;33m(\u001b[0m\u001b[0mself\u001b[0m\u001b[1;33m,\u001b[0m \u001b[0mkey\u001b[0m\u001b[1;33m,\u001b[0m \u001b[0mvalue\u001b[0m\u001b[1;33m)\u001b[0m\u001b[1;33m\u001b[0m\u001b[0m\n\u001b[1;32m   2399\u001b[0m \u001b[1;33m\u001b[0m\u001b[0m\n",
      "\u001b[0;32mC:\\Users\\Xiao\\Miniconda3\\envs\\athena\\lib\\site-packages\\pandas\\core\\frame.py\u001b[0m in \u001b[0;36m_sanitize_column\u001b[0;34m(self, key, value, broadcast)\u001b[0m\n\u001b[1;32m   2566\u001b[0m \u001b[1;33m\u001b[0m\u001b[0m\n\u001b[1;32m   2567\u001b[0m             \u001b[1;31m# turn me into an ndarray\u001b[0m\u001b[1;33m\u001b[0m\u001b[1;33m\u001b[0m\u001b[0m\n\u001b[0;32m-> 2568\u001b[0;31m             \u001b[0mvalue\u001b[0m \u001b[1;33m=\u001b[0m \u001b[0m_sanitize_index\u001b[0m\u001b[1;33m(\u001b[0m\u001b[0mvalue\u001b[0m\u001b[1;33m,\u001b[0m \u001b[0mself\u001b[0m\u001b[1;33m.\u001b[0m\u001b[0mindex\u001b[0m\u001b[1;33m,\u001b[0m \u001b[0mcopy\u001b[0m\u001b[1;33m=\u001b[0m\u001b[1;32mFalse\u001b[0m\u001b[1;33m)\u001b[0m\u001b[1;33m\u001b[0m\u001b[0m\n\u001b[0m\u001b[1;32m   2569\u001b[0m             \u001b[1;32mif\u001b[0m \u001b[1;32mnot\u001b[0m \u001b[0misinstance\u001b[0m\u001b[1;33m(\u001b[0m\u001b[0mvalue\u001b[0m\u001b[1;33m,\u001b[0m \u001b[1;33m(\u001b[0m\u001b[0mnp\u001b[0m\u001b[1;33m.\u001b[0m\u001b[0mndarray\u001b[0m\u001b[1;33m,\u001b[0m \u001b[0mIndex\u001b[0m\u001b[1;33m)\u001b[0m\u001b[1;33m)\u001b[0m\u001b[1;33m:\u001b[0m\u001b[1;33m\u001b[0m\u001b[0m\n\u001b[1;32m   2570\u001b[0m                 \u001b[1;32mif\u001b[0m \u001b[0misinstance\u001b[0m\u001b[1;33m(\u001b[0m\u001b[0mvalue\u001b[0m\u001b[1;33m,\u001b[0m \u001b[0mlist\u001b[0m\u001b[1;33m)\u001b[0m \u001b[1;32mand\u001b[0m \u001b[0mlen\u001b[0m\u001b[1;33m(\u001b[0m\u001b[0mvalue\u001b[0m\u001b[1;33m)\u001b[0m \u001b[1;33m>\u001b[0m \u001b[1;36m0\u001b[0m\u001b[1;33m:\u001b[0m\u001b[1;33m\u001b[0m\u001b[0m\n",
      "\u001b[0;32mC:\\Users\\Xiao\\Miniconda3\\envs\\athena\\lib\\site-packages\\pandas\\core\\series.py\u001b[0m in \u001b[0;36m_sanitize_index\u001b[0;34m(data, index, copy)\u001b[0m\n\u001b[1;32m   2877\u001b[0m \u001b[1;33m\u001b[0m\u001b[0m\n\u001b[1;32m   2878\u001b[0m     \u001b[1;32mif\u001b[0m \u001b[0mlen\u001b[0m\u001b[1;33m(\u001b[0m\u001b[0mdata\u001b[0m\u001b[1;33m)\u001b[0m \u001b[1;33m!=\u001b[0m \u001b[0mlen\u001b[0m\u001b[1;33m(\u001b[0m\u001b[0mindex\u001b[0m\u001b[1;33m)\u001b[0m\u001b[1;33m:\u001b[0m\u001b[1;33m\u001b[0m\u001b[0m\n\u001b[0;32m-> 2879\u001b[0;31m         \u001b[1;32mraise\u001b[0m \u001b[0mValueError\u001b[0m\u001b[1;33m(\u001b[0m\u001b[1;34m'Length of values does not match length of '\u001b[0m \u001b[1;34m'index'\u001b[0m\u001b[1;33m)\u001b[0m\u001b[1;33m\u001b[0m\u001b[0m\n\u001b[0m\u001b[1;32m   2880\u001b[0m \u001b[1;33m\u001b[0m\u001b[0m\n\u001b[1;32m   2881\u001b[0m     \u001b[1;32mif\u001b[0m \u001b[0misinstance\u001b[0m\u001b[1;33m(\u001b[0m\u001b[0mdata\u001b[0m\u001b[1;33m,\u001b[0m \u001b[0mPeriodIndex\u001b[0m\u001b[1;33m)\u001b[0m\u001b[1;33m:\u001b[0m\u001b[1;33m\u001b[0m\u001b[0m\n",
      "\u001b[0;31mValueError\u001b[0m: Length of values does not match length of index"
     ]
    }
   ],
   "source": [
    "dffz = feature_df.loc[100:, ['date']]\n",
    "dffz['signal'] = signal_list"
   ]
  },
  {
   "cell_type": "code",
   "execution_count": 12,
   "metadata": {
    "collapsed": false
   },
   "outputs": [],
   "source": [
    "dffc = df[['code', 'date', 'open', 'close', 'high', 'low']]"
   ]
  },
  {
   "cell_type": "code",
   "execution_count": 13,
   "metadata": {
    "collapsed": false
   },
   "outputs": [],
   "source": [
    "dffy = dffc.merge(dffz, on='date', how='left').loc[105: ,].reset_index().drop('index', axis=1)"
   ]
  },
  {
   "cell_type": "code",
   "execution_count": 14,
   "metadata": {
    "collapsed": false
   },
   "outputs": [],
   "source": [
    "# 构建action_list\n",
    "state = 0\n",
    "hold = 0\n",
    "action_list = []\n",
    "for index, row in dffy.iterrows():\n",
    "    if hold == 0 and state == 1:\n",
    "        action_list.append({'date': row['date'], 'action': 'buy', 'price': row['open']})\n",
    "        hold = 1\n",
    "    elif hold == 1 and state == 0:\n",
    "        action_list.append({'date': row['date'], 'action': 'sell', 'price': row['open']})\n",
    "        hold = 0\n",
    "    else: pass\n",
    "    if row['signal'] == 1 and state == 0:\n",
    "        state = 1\n",
    "    if row['signal'] == 0 and state == 1:\n",
    "        state = 0"
   ]
  },
  {
   "cell_type": "code",
   "execution_count": 15,
   "metadata": {
    "collapsed": false
   },
   "outputs": [],
   "source": [
    "s = tr.StockAccount(time=action_list[0]['date'])\n",
    "s.deposit(date=action_list[0]['date'], quantity=100000)\n",
    "for i in action_list:\n",
    "    if i['action'] == 'buy':\n",
    "        s.buy(code='601318', date=i['date'], price=i['price'], quantity=1, in_graph=True)\n",
    "    elif i['action'] == 'sell':\n",
    "        s.sell(code='601318', date=i['date'], price=i['price'], quantity=1)"
   ]
  },
  {
   "cell_type": "code",
   "execution_count": 16,
   "metadata": {
    "collapsed": false
   },
   "outputs": [
    {
     "name": "stdout",
     "output_type": "stream",
     "text": [
      "<urlopen error timed out>\n",
      "||||||||||||||||||||||||||||||||||||||||||||||||||||||||||||||||||||||||||||||||||||||||||||||||||||  100%\n"
     ]
    },
    {
     "data": {
      "image/png": "[encoded data removed]",
      "text/plain": [
       "<matplotlib.figure.Figure at 0x254605d1a90>"
      ]
     },
     "metadata": {},
     "output_type": "display_data"
    }
   ],
   "source": [
    "s.plot_performance_with_index()"
   ]
  },
  {
   "cell_type": "code",
   "execution_count": null,
   "metadata": {
    "collapsed": false
   },
   "outputs": [],
   "source": []
  },
  {
   "cell_type": "code",
   "execution_count": null,
   "metadata": {
    "collapsed": true
   },
   "outputs": [],
   "source": []
  }
 ],
 "metadata": {
  "kernelspec": {
   "display_name": "Python 3",
   "language": "python",
   "name": "python3"
  },
  "language_info": {
   "codemirror_mode": {
    "name": "ipython",
    "version": 3
   },
   "file_extension": ".py",
   "mimetype": "text/x-python",
   "name": "python",
   "nbconvert_exporter": "python",
   "pygments_lexer": "ipython3",
   "version": "3.6.0"
  }
 },
 "nbformat": 4,
 "nbformat_minor": 2
}
