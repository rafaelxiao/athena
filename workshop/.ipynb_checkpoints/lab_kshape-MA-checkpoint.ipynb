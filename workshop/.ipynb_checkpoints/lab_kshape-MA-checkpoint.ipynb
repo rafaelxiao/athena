{
 "cells": [
  {
   "cell_type": "code",
   "execution_count": 1,
   "metadata": {
    "collapsed": false
   },
   "outputs": [
    {
     "name": "stderr",
     "output_type": "stream",
     "text": [
      "Using TensorFlow backend.\n"
     ]
    }
   ],
   "source": [
    "import pandas as pd\n",
    "import numpy as np\n",
    "import tushare as ts\n",
    "from sklearn.model_selection import train_test_split\n",
    "from sklearn.linear_model import LogisticRegression\n",
    "from sklearn.metrics import auc, roc_curve, confusion_matrix, precision_recall_curve, average_precision_score\n",
    "from sklearn.svm import SVC\n",
    "from sklearn.preprocessing import MinMaxScaler\n",
    "from keras.models import Sequential\n",
    "from keras.layers import Dense, Dropout, LSTM\n",
    "from keras.utils import to_categorical"
   ]
  },
  {
   "cell_type": "code",
   "execution_count": 87,
   "metadata": {
    "collapsed": true
   },
   "outputs": [],
   "source": [
    "def get_samples(df, x_cols, y_base='close', y_target='high', duration=5, forward=5, \\\n",
    "               threshold=0.01, x_matrix=True, scale_cols=None, show_portion=False):\n",
    "    Xs = []\n",
    "    ys = []\n",
    "    dfo = pd.DataFrame.copy(df)\n",
    "    if scale_cols != None and type(scale_cols) == list:\n",
    "        scaler = MinMaxScaler((0, 1))\n",
    "        for i in scale_cols:\n",
    "            dfo[i] = scaler.fit_transform(dfo[[i]])\n",
    "    for i in range(duration, len(dfo)-forward+1):\n",
    "        X = dfo.loc[dfo.index[i-duration:i], x_cols]\n",
    "        if x_matrix == True:\n",
    "            X = X.as_matrix()\n",
    "        y = 1 if (max(dfo.loc[dfo.index[i: i+forward], y_target]) - dfo.loc[dfo.index[i-1], y_base]) \\\n",
    "            / dfo.loc[dfo.index[i-1], y_base] >= threshold else 0\n",
    "        Xs.append(X)\n",
    "        ys.append(y)\n",
    "    ys = to_categorical(ys, num_classes=2)\n",
    "    if x_matrix == True:\n",
    "        Xs = np.array(Xs)\n",
    "    if show_portion == True:\n",
    "        sum_positive = sum(ys[:, 1])\n",
    "        total = ys.shape[0]\n",
    "        print(\"Positive: %s/%s, %.2f%%\"%(int(sum_positive), total, sum_positive / total * 100))\n",
    "    return Xs, ys"
   ]
  },
  {
   "cell_type": "code",
   "execution_count": 3,
   "metadata": {
    "collapsed": true
   },
   "outputs": [],
   "source": [
    "def get_ma(df, interval, ref='close'):\n",
    "    dfo = pd.DataFrame.copy(df)\n",
    "    ref_list = dfo[ref].tolist()\n",
    "    ma = []\n",
    "    for i in range(len(ref_list)):\n",
    "        if i <= interval-1:\n",
    "            p = 0\n",
    "            ma.append(p)\n",
    "        else:\n",
    "            p = np.average(ref_list[i-interval+1: i+1])\n",
    "            ma.append(p)\n",
    "    dfo['ma%s'%interval] = ma\n",
    "    dfo = dfo[dfo['ma%s'%interval] != 0]\n",
    "    return dfo"
   ]
  },
  {
   "cell_type": "code",
   "execution_count": 34,
   "metadata": {
    "collapsed": true
   },
   "outputs": [],
   "source": [
    "def get_distance(df, base, refs=None, scale=False):\n",
    "    dfo = pd.DataFrame.copy(df)\n",
    "    distance_ref = ['open', 'close', 'high', 'low']\n",
    "    if refs != None and type(refs) == list:\n",
    "        distance_ref += refs\n",
    "    distance_ref_cols = ['%s_to_%s'%(i, base) for i in distance_ref]\n",
    "    for i in range(len(distance_ref)):\n",
    "        dfo[distance_ref_cols[i]] = dfo[distance_ref[i]] - dfo[base]\n",
    "    if scale == True:\n",
    "        scaler = MinMaxScaler((0, 1))\n",
    "        dfo[distance_ref_cols] = scaler.fit_transform(dfo[distance_ref_cols])\n",
    "    return dfo"
   ]
  },
  {
   "cell_type": "code",
   "execution_count": 78,
   "metadata": {
    "collapsed": true
   },
   "outputs": [],
   "source": [
    "def get_locations(df, cols):\n",
    "    tick = pd.DataFrame.copy(df)\n",
    "    scaler = MinMaxScaler((0, 1))\n",
    "    cols = ['open', 'close', 'high', 'low', 'ma5', 'ma20', 'ma120']\n",
    "    cols_s = ['p_%s'%i for i in cols]\n",
    "    for i in tick.index:\n",
    "        scaled_values = scaler.fit_transform(tick.loc[i, cols].values.reshape(len(cols), -1)).reshape(len(cols))\n",
    "        for j in range(len(cols_s)):\n",
    "            tick.loc[i, cols_s[j]] = scaled_values[j]\n",
    "    return tick"
   ]
  },
  {
   "cell_type": "code",
   "execution_count": 95,
   "metadata": {
    "collapsed": true
   },
   "outputs": [],
   "source": [
    "def confusion_max(X_test, y_test, model):\n",
    "    tn, fp, fn, tp = confusion_matrix([np.argmax(i) for i in y_test], [np.argmax(i) for i in model.predict(X_test)]).ravel()\n",
    "    print('True Positive: %s'%tp)\n",
    "    print('False Positive: %s'%fp)\n",
    "    print('True Negative: %s'%tn)\n",
    "    print('False Negative: %s'%fn)\n",
    "    print('Percision: %.4f'%(tp / (tp + fp)))\n",
    "    print('Recall: %.4f'%(tp / (tp + fn)))"
   ]
  },
  {
   "cell_type": "code",
   "execution_count": 216,
   "metadata": {
    "collapsed": true
   },
   "outputs": [],
   "source": [
    "code = '600313'\n",
    "start = '2006-01-01'\n",
    "end = '2018-12-31'\n",
    "test_size = 200"
   ]
  },
  {
   "cell_type": "code",
   "execution_count": 217,
   "metadata": {
    "collapsed": true
   },
   "outputs": [],
   "source": [
    "tick_o = ts.get_k_data(code, start=start, end=end)"
   ]
  },
  {
   "cell_type": "code",
   "execution_count": 218,
   "metadata": {
    "collapsed": true
   },
   "outputs": [],
   "source": [
    "tick = pd.DataFrame.copy(tick_o)"
   ]
  },
  {
   "cell_type": "code",
   "execution_count": 219,
   "metadata": {
    "collapsed": true
   },
   "outputs": [],
   "source": [
    "for i in [5, 20, 120]:\n",
    "    tick = get_ma(tick, i)"
   ]
  },
  {
   "cell_type": "code",
   "execution_count": 220,
   "metadata": {
    "collapsed": false
   },
   "outputs": [],
   "source": [
    "tick = get_distance(tick, 'ma5', ['ma20', 'ma120'], scale=True)"
   ]
  },
  {
   "cell_type": "code",
   "execution_count": 221,
   "metadata": {
    "collapsed": false
   },
   "outputs": [
    {
     "name": "stderr",
     "output_type": "stream",
     "text": [
      "C:\\Users\\Xiao\\Miniconda3\\envs\\athena\\lib\\site-packages\\sklearn\\utils\\validation.py:444: DataConversionWarning: Data with input dtype object was converted to float64 by MinMaxScaler.\n",
      "  warnings.warn(msg, DataConversionWarning)\n"
     ]
    }
   ],
   "source": [
    "cols = ['open', 'close', 'high', 'low', 'ma5', 'ma20', 'ma120']\n",
    "tick = get_locations(tick, cols)"
   ]
  },
  {
   "cell_type": "code",
   "execution_count": 226,
   "metadata": {
    "collapsed": false
   },
   "outputs": [
    {
     "name": "stdout",
     "output_type": "stream",
     "text": [
      "Positive: 1113/2202, 50.54%\n"
     ]
    }
   ],
   "source": [
    "x_cols = ['p_open', 'p_close', 'p_high', 'p_low', 'p_ma5', 'p_ma20', 'p_ma120']\n",
    "X, y = get_samples(tick, x_cols, x_matrix=True, y_base='close', y_target='high', \\\n",
    "                  duration = 20, forward=20, show_portion=True, threshold=0.1)"
   ]
  },
  {
   "cell_type": "code",
   "execution_count": 227,
   "metadata": {
    "collapsed": false
   },
   "outputs": [],
   "source": [
    "X_train = X[:-test_size]\n",
    "y_train = y[:-test_size]\n",
    "X_test = X[-test_size:]\n",
    "y_test = y[-test_size:]\n",
    "\n",
    "X_train, X_val, y_train, y_val = train_test_split(X_train, y_train, test_size=0.2)"
   ]
  },
  {
   "cell_type": "code",
   "execution_count": 228,
   "metadata": {
    "collapsed": true
   },
   "outputs": [],
   "source": [
    "model = Sequential()\n",
    "model.add(LSTM(8, input_shape=(X_train[0].shape), activation='relu'))\n",
    "model.add(Dropout(0.5))\n",
    "model.add(Dense(8, activation='relu'))\n",
    "model.add(Dense(2, activation='softmax'))\n",
    "\n",
    "model.compile(loss='categorical_crossentropy', metrics=['accuracy'], optimizer='rmsprop')"
   ]
  },
  {
   "cell_type": "code",
   "execution_count": 229,
   "metadata": {
    "collapsed": false
   },
   "outputs": [
    {
     "name": "stdout",
     "output_type": "stream",
     "text": [
      "Train on 1601 samples, validate on 401 samples\n",
      "Epoch 1/200\n",
      " - 2s - loss: 0.7353 - acc: 0.4859 - val_loss: 0.6887 - val_acc: 0.5436\n",
      "Epoch 2/200\n",
      " - 1s - loss: 0.6898 - acc: 0.5434 - val_loss: 0.6856 - val_acc: 0.5411\n",
      "Epoch 3/200\n",
      " - 1s - loss: 0.6865 - acc: 0.5397 - val_loss: 0.6844 - val_acc: 0.5486\n",
      "Epoch 4/200\n",
      " - 1s - loss: 0.6870 - acc: 0.5372 - val_loss: 0.6845 - val_acc: 0.5411\n",
      "Epoch 5/200\n",
      " - 1s - loss: 0.6872 - acc: 0.5415 - val_loss: 0.6843 - val_acc: 0.5561\n",
      "Epoch 6/200\n",
      " - 1s - loss: 0.6849 - acc: 0.5503 - val_loss: 0.6837 - val_acc: 0.5786\n",
      "Epoch 7/200\n",
      " - 1s - loss: 0.6837 - acc: 0.5628 - val_loss: 0.6831 - val_acc: 0.5885\n",
      "Epoch 8/200\n",
      " - 1s - loss: 0.6829 - acc: 0.5703 - val_loss: 0.6810 - val_acc: 0.5835\n",
      "Epoch 9/200\n",
      " - 1s - loss: 0.6838 - acc: 0.5540 - val_loss: 0.6824 - val_acc: 0.5686\n",
      "Epoch 10/200\n",
      " - 1s - loss: 0.6821 - acc: 0.5646 - val_loss: 0.6835 - val_acc: 0.5636\n",
      "Epoch 11/200\n",
      " - 1s - loss: 0.6815 - acc: 0.5659 - val_loss: 0.6825 - val_acc: 0.5711\n",
      "Epoch 12/200\n",
      " - 1s - loss: 0.6827 - acc: 0.5615 - val_loss: 0.6807 - val_acc: 0.5810\n",
      "Epoch 13/200\n",
      " - 1s - loss: 0.6815 - acc: 0.5671 - val_loss: 0.6821 - val_acc: 0.5761\n",
      "Epoch 14/200\n",
      " - 1s - loss: 0.6824 - acc: 0.5696 - val_loss: 0.6805 - val_acc: 0.5960\n",
      "Epoch 15/200\n",
      " - 1s - loss: 0.6828 - acc: 0.5597 - val_loss: 0.6803 - val_acc: 0.5960\n",
      "Epoch 16/200\n",
      " - 1s - loss: 0.6806 - acc: 0.5621 - val_loss: 0.6788 - val_acc: 0.5860\n",
      "Epoch 17/200\n",
      " - 1s - loss: 0.6791 - acc: 0.5709 - val_loss: 0.6786 - val_acc: 0.5935\n",
      "Epoch 18/200\n",
      " - 1s - loss: 0.6784 - acc: 0.5796 - val_loss: 0.6783 - val_acc: 0.5910\n",
      "Epoch 19/200\n",
      " - 1s - loss: 0.6780 - acc: 0.5753 - val_loss: 0.6776 - val_acc: 0.5910\n",
      "Epoch 20/200\n",
      " - 1s - loss: 0.6785 - acc: 0.5753 - val_loss: 0.6786 - val_acc: 0.5935\n",
      "Epoch 21/200\n",
      " - 1s - loss: 0.6768 - acc: 0.5721 - val_loss: 0.6772 - val_acc: 0.5935\n",
      "Epoch 22/200\n",
      " - 1s - loss: 0.6777 - acc: 0.5728 - val_loss: 0.6757 - val_acc: 0.5960\n",
      "Epoch 23/200\n",
      " - 1s - loss: 0.6789 - acc: 0.5746 - val_loss: 0.6756 - val_acc: 0.5985\n",
      "Epoch 24/200\n",
      " - 1s - loss: 0.6737 - acc: 0.5828 - val_loss: 0.6737 - val_acc: 0.5810\n",
      "Epoch 25/200\n",
      " - 1s - loss: 0.6788 - acc: 0.5734 - val_loss: 0.6742 - val_acc: 0.5860\n",
      "Epoch 26/200\n",
      " - 1s - loss: 0.6733 - acc: 0.5803 - val_loss: 0.6740 - val_acc: 0.5835\n",
      "Epoch 27/200\n",
      " - 1s - loss: 0.6718 - acc: 0.5790 - val_loss: 0.6725 - val_acc: 0.5786\n",
      "Epoch 28/200\n",
      " - 1s - loss: 0.6783 - acc: 0.5703 - val_loss: 0.6735 - val_acc: 0.5810\n",
      "Epoch 29/200\n",
      " - 1s - loss: 0.6759 - acc: 0.5690 - val_loss: 0.6744 - val_acc: 0.5935\n",
      "Epoch 30/200\n",
      " - 1s - loss: 0.6788 - acc: 0.5653 - val_loss: 0.6751 - val_acc: 0.5885\n",
      "Epoch 31/200\n",
      " - 1s - loss: 0.6783 - acc: 0.5846 - val_loss: 0.6723 - val_acc: 0.5860\n",
      "Epoch 32/200\n",
      " - 1s - loss: 0.6763 - acc: 0.5828 - val_loss: 0.6732 - val_acc: 0.5885\n",
      "Epoch 33/200\n",
      " - 1s - loss: 0.6790 - acc: 0.5796 - val_loss: 0.6746 - val_acc: 0.5885\n",
      "Epoch 34/200\n",
      " - 1s - loss: 0.6719 - acc: 0.5834 - val_loss: 0.6697 - val_acc: 0.5786\n",
      "Epoch 35/200\n",
      " - 1s - loss: 0.6781 - acc: 0.5746 - val_loss: 0.6707 - val_acc: 0.5910\n",
      "Epoch 36/200\n",
      " - 1s - loss: 0.6786 - acc: 0.5771 - val_loss: 0.6723 - val_acc: 0.5810\n",
      "Epoch 37/200\n",
      " - 1s - loss: 0.6782 - acc: 0.5796 - val_loss: 0.6749 - val_acc: 0.5810\n",
      "Epoch 38/200\n",
      " - 1s - loss: 0.6780 - acc: 0.5690 - val_loss: 0.6733 - val_acc: 0.5935\n",
      "Epoch 39/200\n",
      " - 1s - loss: 0.6759 - acc: 0.5765 - val_loss: 0.6738 - val_acc: 0.5910\n",
      "Epoch 40/200\n",
      " - 1s - loss: 0.6755 - acc: 0.5709 - val_loss: 0.6748 - val_acc: 0.5810\n",
      "Epoch 41/200\n",
      " - 1s - loss: 0.6743 - acc: 0.5840 - val_loss: 0.6733 - val_acc: 0.5885\n",
      "Epoch 42/200\n",
      " - 1s - loss: 0.6762 - acc: 0.5778 - val_loss: 0.6741 - val_acc: 0.5786\n",
      "Epoch 43/200\n",
      " - 1s - loss: 0.6750 - acc: 0.5840 - val_loss: 0.6722 - val_acc: 0.5835\n",
      "Epoch 44/200\n",
      " - 1s - loss: 0.6721 - acc: 0.5796 - val_loss: 0.6702 - val_acc: 0.5910\n",
      "Epoch 45/200\n",
      " - 1s - loss: 0.6765 - acc: 0.5803 - val_loss: 0.6726 - val_acc: 0.5960\n",
      "Epoch 46/200\n",
      " - 1s - loss: 0.6712 - acc: 0.5784 - val_loss: 0.6713 - val_acc: 0.5835\n",
      "Epoch 47/200\n",
      " - 1s - loss: 0.6723 - acc: 0.5746 - val_loss: 0.6723 - val_acc: 0.5935\n",
      "Epoch 48/200\n",
      " - 1s - loss: 0.6708 - acc: 0.5871 - val_loss: 0.6721 - val_acc: 0.5786\n",
      "Epoch 49/200\n",
      " - 1s - loss: 0.6721 - acc: 0.5878 - val_loss: 0.6704 - val_acc: 0.5860\n",
      "Epoch 50/200\n",
      " - 1s - loss: 0.6774 - acc: 0.5728 - val_loss: 0.6731 - val_acc: 0.5736\n",
      "Epoch 51/200\n",
      " - 1s - loss: 0.6698 - acc: 0.5978 - val_loss: 0.6683 - val_acc: 0.5860\n",
      "Epoch 52/200\n",
      " - 1s - loss: 0.6712 - acc: 0.5809 - val_loss: 0.6699 - val_acc: 0.5810\n",
      "Epoch 53/200\n",
      " - 1s - loss: 0.6778 - acc: 0.5790 - val_loss: 0.6706 - val_acc: 0.5860\n",
      "Epoch 54/200\n",
      " - 1s - loss: 0.6712 - acc: 0.5840 - val_loss: 0.6707 - val_acc: 0.5910\n",
      "Epoch 55/200\n",
      " - 1s - loss: 0.6719 - acc: 0.5846 - val_loss: 0.6675 - val_acc: 0.5860\n",
      "Epoch 56/200\n",
      " - 1s - loss: 0.6719 - acc: 0.5903 - val_loss: 0.6689 - val_acc: 0.5810\n",
      "Epoch 57/200\n",
      " - 1s - loss: 0.6717 - acc: 0.5821 - val_loss: 0.6734 - val_acc: 0.5885\n",
      "Epoch 58/200\n",
      " - 1s - loss: 0.6698 - acc: 0.5834 - val_loss: 0.6688 - val_acc: 0.5860\n",
      "Epoch 59/200\n",
      " - 1s - loss: 0.6678 - acc: 0.5996 - val_loss: 0.6690 - val_acc: 0.6060\n",
      "Epoch 60/200\n",
      " - 1s - loss: 0.6731 - acc: 0.5790 - val_loss: 0.6790 - val_acc: 0.5786\n",
      "Epoch 61/200\n",
      " - 1s - loss: 0.6739 - acc: 0.5846 - val_loss: 0.6683 - val_acc: 0.6085\n",
      "Epoch 62/200\n",
      " - 1s - loss: 0.6706 - acc: 0.5915 - val_loss: 0.6674 - val_acc: 0.5835\n",
      "Epoch 63/200\n",
      " - 1s - loss: 0.6704 - acc: 0.5871 - val_loss: 0.6682 - val_acc: 0.5810\n",
      "Epoch 64/200\n",
      " - 1s - loss: 0.6709 - acc: 0.5959 - val_loss: 0.6703 - val_acc: 0.5985\n",
      "Epoch 65/200\n",
      " - 1s - loss: 0.6704 - acc: 0.5846 - val_loss: 0.6705 - val_acc: 0.5885\n",
      "Epoch 66/200\n",
      " - 1s - loss: 0.6671 - acc: 0.5915 - val_loss: 0.6695 - val_acc: 0.5910\n",
      "Epoch 67/200\n",
      " - 1s - loss: 0.6660 - acc: 0.5953 - val_loss: 0.6646 - val_acc: 0.5835\n",
      "Epoch 68/200\n",
      " - 1s - loss: 0.6692 - acc: 0.5871 - val_loss: 0.6726 - val_acc: 0.5786\n",
      "Epoch 69/200\n",
      " - 1s - loss: 0.6698 - acc: 0.5840 - val_loss: 0.6641 - val_acc: 0.5835\n",
      "Epoch 70/200\n",
      " - 1s - loss: 0.6664 - acc: 0.5859 - val_loss: 0.6670 - val_acc: 0.6060\n",
      "Epoch 71/200\n",
      " - 1s - loss: 0.6652 - acc: 0.5884 - val_loss: 0.6617 - val_acc: 0.5960\n",
      "Epoch 72/200\n",
      " - 1s - loss: 0.6670 - acc: 0.5928 - val_loss: 0.6694 - val_acc: 0.5835\n",
      "Epoch 73/200\n",
      " - 1s - loss: 0.6646 - acc: 0.6121 - val_loss: 0.6713 - val_acc: 0.6035\n",
      "Epoch 74/200\n",
      " - 1s - loss: 0.6671 - acc: 0.5903 - val_loss: 0.6735 - val_acc: 0.5985\n",
      "Epoch 75/200\n",
      " - 1s - loss: 0.6626 - acc: 0.6065 - val_loss: 0.6582 - val_acc: 0.5910\n",
      "Epoch 76/200\n",
      " - 1s - loss: 0.6695 - acc: 0.5778 - val_loss: 0.6646 - val_acc: 0.5885\n",
      "Epoch 77/200\n",
      " - 1s - loss: 0.6722 - acc: 0.5778 - val_loss: 0.6686 - val_acc: 0.5786\n",
      "Epoch 78/200\n",
      " - 1s - loss: 0.6684 - acc: 0.5853 - val_loss: 0.6638 - val_acc: 0.5885\n",
      "Epoch 79/200\n",
      " - 1s - loss: 0.6664 - acc: 0.5965 - val_loss: 0.6699 - val_acc: 0.5810\n",
      "Epoch 80/200\n",
      " - 1s - loss: 0.6683 - acc: 0.5928 - val_loss: 0.6666 - val_acc: 0.5810\n",
      "Epoch 81/200\n",
      " - 1s - loss: 0.6631 - acc: 0.5978 - val_loss: 0.6628 - val_acc: 0.6185\n",
      "Epoch 82/200\n",
      " - 1s - loss: 0.6676 - acc: 0.5890 - val_loss: 0.6632 - val_acc: 0.5860\n",
      "Epoch 83/200\n",
      " - 1s - loss: 0.6622 - acc: 0.5978 - val_loss: 0.6612 - val_acc: 0.5935\n",
      "Epoch 84/200\n",
      " - 1s - loss: 0.6639 - acc: 0.5934 - val_loss: 0.6689 - val_acc: 0.6035\n",
      "Epoch 85/200\n",
      " - 1s - loss: 0.6666 - acc: 0.5828 - val_loss: 0.6658 - val_acc: 0.5885\n",
      "Epoch 86/200\n",
      " - 1s - loss: 0.6642 - acc: 0.5965 - val_loss: 0.6660 - val_acc: 0.6135\n",
      "Epoch 87/200\n",
      " - 1s - loss: 0.6635 - acc: 0.6009 - val_loss: 0.6552 - val_acc: 0.5960\n",
      "Epoch 88/200\n",
      " - 1s - loss: 0.6629 - acc: 0.5859 - val_loss: 0.6590 - val_acc: 0.6459\n",
      "Epoch 89/200\n",
      " - 1s - loss: 0.6633 - acc: 0.5953 - val_loss: 0.6555 - val_acc: 0.6384\n",
      "Epoch 90/200\n",
      " - 1s - loss: 0.6691 - acc: 0.5946 - val_loss: 0.6607 - val_acc: 0.5860\n",
      "Epoch 91/200\n",
      " - 1s - loss: 0.6609 - acc: 0.6046 - val_loss: 0.6517 - val_acc: 0.5910\n",
      "Epoch 92/200\n",
      " - 1s - loss: 0.6637 - acc: 0.5871 - val_loss: 0.6775 - val_acc: 0.5835\n",
      "Epoch 93/200\n",
      " - 1s - loss: 0.6597 - acc: 0.5934 - val_loss: 0.6620 - val_acc: 0.5786\n",
      "Epoch 94/200\n",
      " - 1s - loss: 0.6658 - acc: 0.5940 - val_loss: 0.6545 - val_acc: 0.5960\n",
      "Epoch 95/200\n",
      " - 1s - loss: 0.6584 - acc: 0.5946 - val_loss: 0.6604 - val_acc: 0.5786\n",
      "Epoch 96/200\n",
      " - 1s - loss: 0.6576 - acc: 0.6015 - val_loss: 0.6568 - val_acc: 0.5885\n",
      "Epoch 97/200\n",
      " - 1s - loss: 0.6542 - acc: 0.6077 - val_loss: 0.6467 - val_acc: 0.6309\n",
      "Epoch 98/200\n",
      " - 1s - loss: 0.6624 - acc: 0.6015 - val_loss: 0.6642 - val_acc: 0.5860\n",
      "Epoch 99/200\n",
      " - 1s - loss: 0.6584 - acc: 0.6009 - val_loss: 0.6620 - val_acc: 0.6234\n",
      "Epoch 100/200\n",
      " - 1s - loss: 0.6545 - acc: 0.6027 - val_loss: 0.6474 - val_acc: 0.6234\n",
      "Epoch 101/200\n",
      " - 1s - loss: 0.6497 - acc: 0.6177 - val_loss: 0.6500 - val_acc: 0.6209\n",
      "Epoch 102/200\n",
      " - 1s - loss: 0.6630 - acc: 0.5978 - val_loss: 0.6602 - val_acc: 0.6160\n",
      "Epoch 103/200\n",
      " - 1s - loss: 0.6591 - acc: 0.6065 - val_loss: 0.6594 - val_acc: 0.6085\n",
      "Epoch 104/200\n",
      " - 1s - loss: 0.6615 - acc: 0.5996 - val_loss: 0.6524 - val_acc: 0.6434\n",
      "Epoch 105/200\n",
      " - 1s - loss: 0.6639 - acc: 0.5946 - val_loss: 0.6435 - val_acc: 0.6409\n",
      "Epoch 106/200\n",
      " - 1s - loss: 0.6574 - acc: 0.6109 - val_loss: 0.6524 - val_acc: 0.5810\n",
      "Epoch 107/200\n",
      " - 1s - loss: 0.6626 - acc: 0.5890 - val_loss: 0.6547 - val_acc: 0.6284\n",
      "Epoch 108/200\n",
      " - 1s - loss: 0.6581 - acc: 0.6040 - val_loss: 0.6591 - val_acc: 0.6185\n",
      "Epoch 109/200\n",
      " - 1s - loss: 0.6621 - acc: 0.5971 - val_loss: 0.6530 - val_acc: 0.5985\n",
      "Epoch 110/200\n",
      " - 1s - loss: 0.6567 - acc: 0.5909 - val_loss: 0.6568 - val_acc: 0.5860\n",
      "Epoch 111/200\n",
      " - 1s - loss: 0.6529 - acc: 0.6077 - val_loss: 0.6477 - val_acc: 0.6534\n",
      "Epoch 112/200\n",
      " - 1s - loss: 0.6625 - acc: 0.6021 - val_loss: 0.6400 - val_acc: 0.6135\n",
      "Epoch 113/200\n",
      " - 1s - loss: 0.6576 - acc: 0.6102 - val_loss: 0.6394 - val_acc: 0.6334\n",
      "Epoch 114/200\n",
      " - 1s - loss: 0.6558 - acc: 0.6059 - val_loss: 0.6600 - val_acc: 0.6135\n",
      "Epoch 115/200\n",
      " - 1s - loss: 0.6533 - acc: 0.6090 - val_loss: 0.6447 - val_acc: 0.6185\n",
      "Epoch 116/200\n",
      " - 1s - loss: 0.6587 - acc: 0.5984 - val_loss: 0.7746 - val_acc: 0.5262\n",
      "Epoch 117/200\n",
      " - 1s - loss: 0.6535 - acc: 0.6140 - val_loss: 0.6777 - val_acc: 0.5611\n",
      "Epoch 118/200\n",
      " - 1s - loss: 0.6538 - acc: 0.6221 - val_loss: 0.6427 - val_acc: 0.6459\n",
      "Epoch 119/200\n",
      " - 1s - loss: 0.6517 - acc: 0.6221 - val_loss: 0.6506 - val_acc: 0.6110\n",
      "Epoch 120/200\n",
      " - 1s - loss: 0.6526 - acc: 0.6027 - val_loss: 0.6379 - val_acc: 0.6584\n",
      "Epoch 121/200\n",
      " - 1s - loss: 0.6555 - acc: 0.6034 - val_loss: 0.6518 - val_acc: 0.6484\n",
      "Epoch 122/200\n",
      " - 1s - loss: 0.6522 - acc: 0.6159 - val_loss: 0.6450 - val_acc: 0.6035\n",
      "Epoch 123/200\n",
      " - 1s - loss: 0.6493 - acc: 0.6246 - val_loss: 0.6511 - val_acc: 0.6160\n",
      "Epoch 124/200\n",
      " - 1s - loss: 0.6548 - acc: 0.6102 - val_loss: 0.6403 - val_acc: 0.6658\n",
      "Epoch 125/200\n",
      " - 1s - loss: 0.6556 - acc: 0.6009 - val_loss: 0.6558 - val_acc: 0.6284\n",
      "Epoch 126/200\n",
      " - 1s - loss: 0.6489 - acc: 0.6171 - val_loss: 0.6488 - val_acc: 0.6434\n",
      "Epoch 127/200\n",
      " - 1s - loss: 0.6447 - acc: 0.6221 - val_loss: 0.6521 - val_acc: 0.5960\n",
      "Epoch 128/200\n",
      " - 1s - loss: 0.6507 - acc: 0.6127 - val_loss: 0.6400 - val_acc: 0.6384\n",
      "Epoch 129/200\n",
      " - 1s - loss: 0.6415 - acc: 0.6159 - val_loss: 0.6461 - val_acc: 0.6209\n",
      "Epoch 130/200\n",
      " - 1s - loss: 0.6425 - acc: 0.6196 - val_loss: 0.6408 - val_acc: 0.6459\n",
      "Epoch 131/200\n",
      " - 1s - loss: 0.6466 - acc: 0.6265 - val_loss: 0.6443 - val_acc: 0.6434\n",
      "Epoch 132/200\n",
      " - 1s - loss: 0.6507 - acc: 0.6234 - val_loss: 0.6468 - val_acc: 0.6359\n",
      "Epoch 133/200\n",
      " - 1s - loss: 0.6525 - acc: 0.6202 - val_loss: 0.6469 - val_acc: 0.6334\n",
      "Epoch 134/200\n",
      " - 1s - loss: 0.6428 - acc: 0.6340 - val_loss: 0.6552 - val_acc: 0.5786\n",
      "Epoch 135/200\n",
      " - 1s - loss: 0.6436 - acc: 0.6259 - val_loss: 0.6470 - val_acc: 0.6409\n",
      "Epoch 136/200\n",
      " - 1s - loss: 0.6428 - acc: 0.6359 - val_loss: 0.6564 - val_acc: 0.6209\n",
      "Epoch 137/200\n",
      " - 1s - loss: 0.6451 - acc: 0.6327 - val_loss: 0.6402 - val_acc: 0.6584\n",
      "Epoch 138/200\n",
      " - 1s - loss: 0.6543 - acc: 0.6059 - val_loss: 0.6433 - val_acc: 0.6209\n",
      "Epoch 139/200\n",
      " - 1s - loss: 0.6324 - acc: 0.6346 - val_loss: 0.6450 - val_acc: 0.6334\n",
      "Epoch 140/200\n",
      " - 1s - loss: 0.6434 - acc: 0.6240 - val_loss: 0.6394 - val_acc: 0.6359\n",
      "Epoch 141/200\n",
      " - 1s - loss: 0.6451 - acc: 0.6346 - val_loss: 0.6709 - val_acc: 0.5860\n",
      "Epoch 142/200\n",
      " - 1s - loss: 0.6411 - acc: 0.6315 - val_loss: 0.6409 - val_acc: 0.6284\n",
      "Epoch 143/200\n",
      " - 1s - loss: 0.6435 - acc: 0.6315 - val_loss: 0.6650 - val_acc: 0.5860\n",
      "Epoch 144/200\n",
      " - 1s - loss: 0.6341 - acc: 0.6277 - val_loss: 0.6429 - val_acc: 0.6234\n",
      "Epoch 145/200\n",
      " - 1s - loss: 0.6356 - acc: 0.6359 - val_loss: 0.6458 - val_acc: 0.6309\n",
      "Epoch 146/200\n",
      " - 1s - loss: 0.6392 - acc: 0.6321 - val_loss: 0.6299 - val_acc: 0.6459\n",
      "Epoch 147/200\n",
      " - 1s - loss: 0.6410 - acc: 0.6315 - val_loss: 0.6484 - val_acc: 0.6384\n",
      "Epoch 148/200\n",
      " - 1s - loss: 0.6420 - acc: 0.6290 - val_loss: 0.6446 - val_acc: 0.6384\n",
      "Epoch 149/200\n",
      " - 1s - loss: 0.6500 - acc: 0.6127 - val_loss: 0.6816 - val_acc: 0.5761\n",
      "Epoch 150/200\n",
      " - 1s - loss: 0.6379 - acc: 0.6340 - val_loss: 0.6407 - val_acc: 0.6384\n",
      "Epoch 151/200\n",
      " - 1s - loss: 0.6370 - acc: 0.6365 - val_loss: 0.6560 - val_acc: 0.6060\n",
      "Epoch 152/200\n",
      " - 1s - loss: 0.6395 - acc: 0.6321 - val_loss: 0.6503 - val_acc: 0.6309\n",
      "Epoch 153/200\n",
      " - 1s - loss: 0.6345 - acc: 0.6334 - val_loss: 0.6432 - val_acc: 0.6359\n",
      "Epoch 154/200\n",
      " - 1s - loss: 0.6346 - acc: 0.6408 - val_loss: 0.6374 - val_acc: 0.6459\n",
      "Epoch 155/200\n",
      " - 1s - loss: 0.6372 - acc: 0.6309 - val_loss: 0.6530 - val_acc: 0.6035\n",
      "Epoch 156/200\n",
      " - 1s - loss: 0.6278 - acc: 0.6384 - val_loss: 0.6631 - val_acc: 0.6010\n",
      "Epoch 157/200\n",
      " - 1s - loss: 0.6332 - acc: 0.6340 - val_loss: 0.6681 - val_acc: 0.5860\n",
      "Epoch 158/200\n",
      " - 1s - loss: 0.6409 - acc: 0.6284 - val_loss: 0.6412 - val_acc: 0.6359\n",
      "Epoch 159/200\n",
      " - 1s - loss: 0.6302 - acc: 0.6334 - val_loss: 0.6455 - val_acc: 0.6160\n",
      "Epoch 160/200\n",
      " - 1s - loss: 0.6311 - acc: 0.6427 - val_loss: 0.6379 - val_acc: 0.6509\n",
      "Epoch 161/200\n",
      " - 1s - loss: 0.6391 - acc: 0.6259 - val_loss: 0.6628 - val_acc: 0.5960\n",
      "Epoch 162/200\n",
      " - 1s - loss: 0.6372 - acc: 0.6384 - val_loss: 0.6519 - val_acc: 0.6185\n",
      "Epoch 163/200\n",
      " - 1s - loss: 0.6356 - acc: 0.6296 - val_loss: 0.6451 - val_acc: 0.6259\n",
      "Epoch 164/200\n",
      " - 1s - loss: 0.6366 - acc: 0.6327 - val_loss: 0.6762 - val_acc: 0.5611\n",
      "Epoch 165/200\n",
      " - 1s - loss: 0.6319 - acc: 0.6408 - val_loss: 0.6562 - val_acc: 0.5985\n",
      "Epoch 166/200\n",
      " - 1s - loss: 0.6345 - acc: 0.6302 - val_loss: 0.6466 - val_acc: 0.6259\n",
      "Epoch 167/200\n",
      " - 1s - loss: 0.6360 - acc: 0.6334 - val_loss: 0.6514 - val_acc: 0.6234\n",
      "Epoch 168/200\n",
      " - 1s - loss: 0.6388 - acc: 0.6290 - val_loss: 0.6510 - val_acc: 0.6284\n",
      "Epoch 169/200\n",
      " - 1s - loss: 0.6316 - acc: 0.6359 - val_loss: 0.6533 - val_acc: 0.6259\n",
      "Epoch 170/200\n",
      " - 1s - loss: 0.6361 - acc: 0.6477 - val_loss: 0.6385 - val_acc: 0.6434\n",
      "Epoch 171/200\n",
      " - 1s - loss: 0.6265 - acc: 0.6440 - val_loss: 0.6639 - val_acc: 0.6309\n",
      "Epoch 172/200\n",
      " - 1s - loss: 0.6262 - acc: 0.6458 - val_loss: 0.6351 - val_acc: 0.6608\n",
      "Epoch 173/200\n",
      " - 1s - loss: 0.6399 - acc: 0.6327 - val_loss: 0.6387 - val_acc: 0.6309\n",
      "Epoch 174/200\n",
      " - 1s - loss: 0.6289 - acc: 0.6477 - val_loss: 0.6485 - val_acc: 0.6209\n",
      "Epoch 175/200\n",
      " - 1s - loss: 0.6339 - acc: 0.6309 - val_loss: 0.6572 - val_acc: 0.6359\n",
      "Epoch 176/200\n",
      " - 1s - loss: 0.6301 - acc: 0.6415 - val_loss: 0.6439 - val_acc: 0.6334\n",
      "Epoch 177/200\n",
      " - 1s - loss: 0.6320 - acc: 0.6384 - val_loss: 0.6485 - val_acc: 0.6359\n",
      "Epoch 178/200\n",
      " - 1s - loss: 0.6363 - acc: 0.6396 - val_loss: 0.6493 - val_acc: 0.6284\n",
      "Epoch 179/200\n",
      " - 1s - loss: 0.6375 - acc: 0.6340 - val_loss: 0.6446 - val_acc: 0.6359\n",
      "Epoch 180/200\n",
      " - 1s - loss: 0.6373 - acc: 0.6259 - val_loss: 0.6510 - val_acc: 0.6334\n",
      "Epoch 181/200\n",
      " - 1s - loss: 0.6241 - acc: 0.6515 - val_loss: 0.6340 - val_acc: 0.6509\n",
      "Epoch 182/200\n",
      " - 1s - loss: 0.6255 - acc: 0.6533 - val_loss: 0.6640 - val_acc: 0.6209\n",
      "Epoch 183/200\n",
      " - 1s - loss: 0.6304 - acc: 0.6402 - val_loss: 0.6395 - val_acc: 0.6484\n",
      "Epoch 184/200\n",
      " - 1s - loss: 0.6355 - acc: 0.6433 - val_loss: 0.6389 - val_acc: 0.6484\n",
      "Epoch 185/200\n",
      " - 1s - loss: 0.6304 - acc: 0.6471 - val_loss: 0.6458 - val_acc: 0.6334\n",
      "Epoch 186/200\n",
      " - 1s - loss: 0.6284 - acc: 0.6477 - val_loss: 0.6592 - val_acc: 0.6010\n",
      "Epoch 187/200\n",
      " - 1s - loss: 0.6325 - acc: 0.6583 - val_loss: 0.6506 - val_acc: 0.6234\n",
      "Epoch 188/200\n",
      " - 1s - loss: 0.6187 - acc: 0.6583 - val_loss: 0.6399 - val_acc: 0.6559\n",
      "Epoch 189/200\n",
      " - 1s - loss: 0.6216 - acc: 0.6433 - val_loss: 0.6390 - val_acc: 0.6509\n",
      "Epoch 190/200\n",
      " - 1s - loss: 0.6270 - acc: 0.6565 - val_loss: 0.6438 - val_acc: 0.6309\n",
      "Epoch 191/200\n",
      " - 1s - loss: 0.6245 - acc: 0.6384 - val_loss: 0.6644 - val_acc: 0.5985\n",
      "Epoch 192/200\n",
      " - 1s - loss: 0.6250 - acc: 0.6458 - val_loss: 0.6368 - val_acc: 0.6409\n",
      "Epoch 193/200\n",
      " - 1s - loss: 0.6219 - acc: 0.6496 - val_loss: 0.6579 - val_acc: 0.6035\n",
      "Epoch 194/200\n",
      " - 1s - loss: 0.6295 - acc: 0.6558 - val_loss: 0.6448 - val_acc: 0.6459\n",
      "Epoch 195/200\n",
      " - 1s - loss: 0.6252 - acc: 0.6508 - val_loss: 0.6376 - val_acc: 0.6259\n",
      "Epoch 196/200\n",
      " - 1s - loss: 0.6250 - acc: 0.6465 - val_loss: 0.6264 - val_acc: 0.6708\n",
      "Epoch 197/200\n",
      " - 1s - loss: 0.6271 - acc: 0.6334 - val_loss: 0.6738 - val_acc: 0.6185\n",
      "Epoch 198/200\n",
      " - 1s - loss: 0.6250 - acc: 0.6508 - val_loss: 0.6349 - val_acc: 0.6359\n",
      "Epoch 199/200\n",
      " - 1s - loss: 0.6204 - acc: 0.6446 - val_loss: 0.6394 - val_acc: 0.6284\n",
      "Epoch 200/200\n",
      " - 1s - loss: 0.6226 - acc: 0.6408 - val_loss: 0.6409 - val_acc: 0.6384\n"
     ]
    },
    {
     "data": {
      "text/plain": [
       "<keras.callbacks.History at 0x25b6aee4d68>"
      ]
     },
     "execution_count": 229,
     "metadata": {},
     "output_type": "execute_result"
    }
   ],
   "source": [
    "model.fit(X_train, y_train, batch_size=32, epochs=200, validation_data=[X_val, y_val], verbose=2)"
   ]
  },
  {
   "cell_type": "code",
   "execution_count": 230,
   "metadata": {
    "collapsed": false
   },
   "outputs": [
    {
     "name": "stdout",
     "output_type": "stream",
     "text": [
      "True Positive: 24\n",
      "False Positive: 176\n",
      "True Negative: 0\n",
      "False Negative: 0\n",
      "Percision: 0.1200\n",
      "Recall: 1.0000\n"
     ]
    }
   ],
   "source": [
    "confusion_max(X_test, y_test, model)"
   ]
  },
  {
   "cell_type": "code",
   "execution_count": 231,
   "metadata": {
    "collapsed": false
   },
   "outputs": [
    {
     "name": "stdout",
     "output_type": "stream",
     "text": [
      "True Positive: 206\n",
      "False Positive: 134\n",
      "True Negative: 50\n",
      "False Negative: 11\n",
      "Percision: 0.6059\n",
      "Recall: 0.9493\n"
     ]
    }
   ],
   "source": [
    "confusion_max(X_val, y_val, model)"
   ]
  },
  {
   "cell_type": "code",
   "execution_count": null,
   "metadata": {
    "collapsed": true
   },
   "outputs": [],
   "source": []
  }
 ],
 "metadata": {
  "kernelspec": {
   "display_name": "Python 3",
   "language": "python",
   "name": "python3"
  },
  "language_info": {
   "codemirror_mode": {
    "name": "ipython",
    "version": 3
   },
   "file_extension": ".py",
   "mimetype": "text/x-python",
   "name": "python",
   "nbconvert_exporter": "python",
   "pygments_lexer": "ipython3",
   "version": "3.6.0"
  }
 },
 "nbformat": 4,
 "nbformat_minor": 2
}
