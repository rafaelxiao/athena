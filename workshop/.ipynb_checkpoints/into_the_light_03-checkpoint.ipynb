{
 "cells": [
  {
   "cell_type": "code",
   "execution_count": 1,
   "metadata": {
    "collapsed": false
   },
   "outputs": [
    {
     "name": "stderr",
     "output_type": "stream",
     "text": [
      "C:\\Users\\Xiao\\Miniconda3\\envs\\athena\\lib\\site-packages\\matplotlib\\cbook.py:136: MatplotlibDeprecationWarning: The finance module has been deprecated in mpl 2.0 and will be removed in mpl 2.2. Please use the module mpl_finance instead.\n",
      "  warnings.warn(message, mplDeprecation, stacklevel=1)\n"
     ]
    }
   ],
   "source": [
    "import sys\n",
    "import os\n",
    "cwd = os.path.dirname(os.getcwd())\n",
    "sys.path.append(cwd)\n",
    "import numpy as np\n",
    "import tushare as ts\n",
    "import matplotlib.pyplot as plt\n",
    "import seaborn as sns\n",
    "import pandas as pd\n",
    "import analyst as al\n",
    "import assistant as at\n",
    "import messenger as ms\n",
    "import datetime\n",
    "import trader as tr\n",
    "import random\n",
    "import tensorflow as tf"
   ]
  },
  {
   "cell_type": "code",
   "execution_count": 2,
   "metadata": {
    "collapsed": true
   },
   "outputs": [],
   "source": [
    "sns.set()"
   ]
  },
  {
   "cell_type": "code",
   "execution_count": 3,
   "metadata": {
    "collapsed": false
   },
   "outputs": [],
   "source": [
    "# 买盘与卖盘比例\n",
    "def buy_rate(df):\n",
    "    result = df['type'].value_counts()['买盘'] / len(df)\n",
    "    return result"
   ]
  },
  {
   "cell_type": "code",
   "execution_count": 4,
   "metadata": {
    "collapsed": false
   },
   "outputs": [],
   "source": [
    "# 根据条件筛选DF\n",
    "def _subset(df, cls='volume', percent=0.05, top=True):\n",
    "    if top == True:\n",
    "        sig = df[cls].quantile(1-percent)\n",
    "        df = df.loc[df[cls]>sig, :]\n",
    "    if top == False:\n",
    "        sig = df[cls].quantile(percent)\n",
    "        df = df.loc[df[cls]<sig, :]\n",
    "    return df"
   ]
  },
  {
   "cell_type": "code",
   "execution_count": 5,
   "metadata": {
    "collapsed": false
   },
   "outputs": [],
   "source": [
    "# 集中度\n",
    "def central_tendency(df, cls='volume', percent=0.05):\n",
    "    sub = _subset(df, cls, percent)\n",
    "    result = sub[cls].sum() / df[cls].sum()\n",
    "    return result"
   ]
  },
  {
   "cell_type": "code",
   "execution_count": 6,
   "metadata": {
    "collapsed": true
   },
   "outputs": [],
   "source": [
    "# 资金流向\n",
    "def net_flow(df):\n",
    "    in_amount = df.loc[df['type']=='买盘', :]['amount'].sum()\n",
    "    out_amount = df.loc[df['type']=='卖盘', :]['amount'].sum()\n",
    "    net_amount = in_amount - out_amount\n",
    "    return net_amount"
   ]
  },
  {
   "cell_type": "code",
   "execution_count": 7,
   "metadata": {
    "collapsed": true
   },
   "outputs": [],
   "source": [
    "# 价格变化\n",
    "def act_price_change(df):\n",
    "    price_list = df['price'].tolist()\n",
    "    price_change = price_list[0] - price_list[-1]\n",
    "    return price_change    "
   ]
  },
  {
   "cell_type": "code",
   "execution_count": 8,
   "metadata": {
    "collapsed": true
   },
   "outputs": [],
   "source": [
    "# 资金导致的价格变动\n",
    "def theo_price_change(df):\n",
    "    result = net_flow(df) / df['volume'].sum() / 100\n",
    "    return result"
   ]
  },
  {
   "cell_type": "code",
   "execution_count": 9,
   "metadata": {
    "collapsed": true
   },
   "outputs": [],
   "source": [
    "# 资金振幅\n",
    "def max_price_change(df):\n",
    "    price_list = df['price'].tolist()\n",
    "    result = max(price_list) - min(price_list)\n",
    "    return result"
   ]
  },
  {
   "cell_type": "code",
   "execution_count": 18,
   "metadata": {
    "collapsed": false
   },
   "outputs": [],
   "source": [
    "# 获的characteristics\n",
    "def get_characteristics(df, top_percent=0.05, bottom_percent=0.5, cls='volume'):\n",
    "    dic = {}\n",
    "    dic['act_price_change'] = act_price_change(df)\n",
    "    dic['theo_price_change'] = theo_price_change(df)\n",
    "    dic['resistence'] = dic['theo_price_change'] - dic['act_price_change']\n",
    "    dic['buy_rate'] = buy_rate(df)\n",
    "    dic['central_tendency'] = central_tendency(df, cls, top_percent)\n",
    "    dic['net_flow'] = net_flow(df)\n",
    "    dic['close'] = df['price'].tolist()[0]\n",
    "    \n",
    "    df_top = _subset(df, cls, top_percent)\n",
    "    dic['top_buy_rate'] = buy_rate(df_top)\n",
    "    dic['top_net_flow'] = net_flow(df_top)\n",
    "    \n",
    "    df_bottom = _subset(df, cls, bottom_percent, False)\n",
    "    dic['bottom_buy_rate'] = buy_rate(df_bottom)\n",
    "    dic['bottom_net_flow'] = net_flow(df_bottom)\n",
    "    \n",
    "    return dic"
   ]
  },
  {
   "cell_type": "code",
   "execution_count": 19,
   "metadata": {
    "collapsed": false
   },
   "outputs": [],
   "source": [
    "def get_dataframe(code, start_date='', days=30, top_percent=0.05, bottom_percent=0.5, cls='volume', multi_threads=20):\n",
    "    days_list = at.opening_days(days=days, start_date=start_date, multi_threads=multi_threads)\n",
    "    lis = []\n",
    "    for i in days_list:\n",
    "        try:\n",
    "            dicc = {}\n",
    "            dicc['date'] = i\n",
    "            dicc['code'] = code\n",
    "            df = ms.get_tick_data(code, i)\n",
    "            dic = get_characteristics(df, top_percent, bottom_percent, cls)\n",
    "            dic.update(dicc)\n",
    "            lis.append(dic)\n",
    "        except:\n",
    "            pass\n",
    "    frame = pd.DataFrame(lis)\n",
    "    frame = frame[[\n",
    "        'code', 'date', 'close', 'act_price_change', 'theo_price_change', 'resistence', 'buy_rate', 'central_tendency', \n",
    "        'net_flow', 'top_buy_rate', 'top_net_flow', 'bottom_buy_rate', 'bottom_net_flow'\n",
    "    ]]\n",
    "    return frame"
   ]
  },
  {
   "cell_type": "code",
   "execution_count": 34,
   "metadata": {
    "collapsed": true
   },
   "outputs": [],
   "source": [
    "def to_same_scale(val, lis):\n",
    "    mean_val = np.mean(lis)\n",
    "    min_val = min(lis)\n",
    "    max_val = max(lis)\n",
    "    result = (val - mean_val) / (max_val - min_val)\n",
    "    return result"
   ]
  },
  {
   "cell_type": "code",
   "execution_count": 52,
   "metadata": {
    "collapsed": false
   },
   "outputs": [],
   "source": [
    "# 把DF分成若干等份\n",
    "def split_frame(df, length):\n",
    "    df_list = []\n",
    "    for i in range(0, len(df)-length):\n",
    "        df_list.append(df.loc[i: i+length, :])\n",
    "    return df_list"
   ]
  },
  {
   "cell_type": "code",
   "execution_count": 59,
   "metadata": {
    "collapsed": true
   },
   "outputs": [],
   "source": [
    "# 计算特征得分\n",
    "def get_score(df, col, thread=0):\n",
    "    score = len(df[df[col]>thread]) / len(df)\n",
    "    return score"
   ]
  },
  {
   "cell_type": "code",
   "execution_count": 55,
   "metadata": {
    "collapsed": true
   },
   "outputs": [],
   "source": [
    "# 提取特征函数\n",
    "def get_features(df):\n",
    "    dic = {}\n",
    "    dic['emotion'] = get_score(df, 'smoothed difference')\n",
    "    dic['cash'] = get_score(df, 'smoothed actual')\n",
    "    dic['close'] = np.average(df['close'])\n",
    "    dic['volume'] = np.max(df['volume'])\n",
    "    return dic"
   ]
  },
  {
   "cell_type": "code",
   "execution_count": 24,
   "metadata": {
    "collapsed": true
   },
   "outputs": [],
   "source": [
    "dff = get_dataframe('601318', '2017-11-15', 300)"
   ]
  },
  {
   "cell_type": "code",
   "execution_count": 91,
   "metadata": {
    "collapsed": true
   },
   "outputs": [],
   "source": [
    "dfff = get_dataframe('000625', '2017-11-15', 300)"
   ]
  },
  {
   "cell_type": "code",
   "execution_count": 103,
   "metadata": {
    "collapsed": false
   },
   "outputs": [
    {
     "name": "stdout",
     "output_type": "stream",
     "text": [
      "||||||||||||||||||||||||||||||||||||||||||||||||||||||||||||||||||||||||||||||||||||||||||||||||||||  100%\n"
     ]
    }
   ],
   "source": [
    "t.update('600313')\n",
    "dffff = get_dataframe('600313', '2017-11-15', 300)"
   ]
  },
  {
   "cell_type": "code",
   "execution_count": 152,
   "metadata": {
    "collapsed": true
   },
   "outputs": [],
   "source": [
    "dfc = pd.DataFrame.copy(dfff)"
   ]
  },
  {
   "cell_type": "code",
   "execution_count": 153,
   "metadata": {
    "collapsed": false
   },
   "outputs": [],
   "source": [
    "dfc['net_flow'] = dfc['net_flow'].apply(lambda x: to_same_scale(x, dfc['net_flow'].tolist()))\n",
    "dfc['top_net_flow'] = dfc['top_net_flow'].apply(lambda x: to_same_scale(x, dfc['net_flow'].tolist()))\n",
    "dfc['bottom_net_flow'] = dfc['bottom_net_flow'].apply(lambda x: to_same_scale(x, dfc['bottom_net_flow'].tolist()))\n",
    "dfc['resistence'] = dfc['resistence'].apply(lambda x: to_same_scale(x, dfc['resistence'].tolist()))"
   ]
  },
  {
   "cell_type": "code",
   "execution_count": 154,
   "metadata": {
    "collapsed": false
   },
   "outputs": [],
   "source": [
    "dfc_list = split_frame(dfc, 5)"
   ]
  },
  {
   "cell_type": "code",
   "execution_count": 155,
   "metadata": {
    "collapsed": false
   },
   "outputs": [],
   "source": [
    "up_thread = 0.01\n",
    "feature_list = []\n",
    "for i in dfc_list:\n",
    "    _dict = {}\n",
    "    _dict['code'] = i['code'].tolist()[-1]\n",
    "    _dict['date'] = i['date'].tolist()[-1]\n",
    "    close_list = i['close'].tolist()\n",
    "    _dict['close'] = close_list[-1]\n",
    "    _dict['up'] = int(((close_list[-1] - close_list[0]) / close_list[0]) > up_thread)\n",
    "    _dict['resistence'] = get_score(i, 'resistence')\n",
    "    _dict['buy_rate'] = get_score(i, 'buy_rate', 0.5)\n",
    "    _dict['central_tendency'] = get_score(i, 'central_tendency', 0.4)\n",
    "    _dict['net_flow'] = get_score(i, 'net_flow')\n",
    "    _dict['top_buy_rate'] = get_score(i, 'top_buy_rate', 0.5)\n",
    "    _dict['top_net_flow'] = get_score(i, 'top_net_flow')\n",
    "    _dict['bottom_buy_rate'] = get_score(i, 'bottom_buy_rate', 0.5)\n",
    "    _dict['bottom_net_flow'] = get_score(i, 'bottom_net_flow')\n",
    "    feature_list.append(_dict)"
   ]
  },
  {
   "cell_type": "code",
   "execution_count": 156,
   "metadata": {
    "collapsed": false
   },
   "outputs": [],
   "source": [
    "feature_df = pd.DataFrame(feature_list)"
   ]
  },
  {
   "cell_type": "code",
   "execution_count": 157,
   "metadata": {
    "collapsed": true
   },
   "outputs": [],
   "source": [
    "x_col = ['resistence', 'buy_rate', 'central_tendency', 'net_flow', 'top_buy_rate', 'top_net_flow', 'bottom_buy_rate', 'bottom_net_flow']\n",
    "y_col = 'up'\n",
    "x_train = feature_df.loc[:200, x_col]\n",
    "y_train = feature_df.loc[:200, y_col]\n",
    "x_test = feature_df.loc[200:, x_col]\n",
    "y_test = feature_df.loc[200:, y_col]"
   ]
  },
  {
   "cell_type": "code",
   "execution_count": 158,
   "metadata": {
    "collapsed": false
   },
   "outputs": [
    {
     "data": {
      "text/plain": [
       "LogisticRegression(C=1.0, class_weight=None, dual=False, fit_intercept=True,\n",
       "          intercept_scaling=1, max_iter=100, multi_class='ovr', n_jobs=1,\n",
       "          penalty='l2', random_state=None, solver='liblinear', tol=0.0001,\n",
       "          verbose=0, warm_start=False)"
      ]
     },
     "execution_count": 158,
     "metadata": {},
     "output_type": "execute_result"
    }
   ],
   "source": [
    "from sklearn.linear_model import LogisticRegression\n",
    "clf = LogisticRegression()\n",
    "clf.fit(x_train, y_train)"
   ]
  },
  {
   "cell_type": "code",
   "execution_count": 159,
   "metadata": {
    "collapsed": false
   },
   "outputs": [
    {
     "name": "stdout",
     "output_type": "stream",
     "text": [
      "0.791044776119\n",
      "0.795698924731\n"
     ]
    }
   ],
   "source": [
    "print(clf.score(x_train, y_train))\n",
    "print(clf.score(x_test, y_test))"
   ]
  },
  {
   "cell_type": "code",
   "execution_count": 160,
   "metadata": {
    "collapsed": false
   },
   "outputs": [
    {
     "data": {
      "text/plain": [
       "0.28668941979522183"
      ]
     },
     "execution_count": 160,
     "metadata": {},
     "output_type": "execute_result"
    }
   ],
   "source": [
    "feature_df['up'].value_counts()[1]/len(feature_df)"
   ]
  },
  {
   "cell_type": "code",
   "execution_count": null,
   "metadata": {
    "collapsed": true
   },
   "outputs": [],
   "source": []
  }
 ],
 "metadata": {
  "kernelspec": {
   "display_name": "Python 3",
   "language": "python",
   "name": "python3"
  },
  "language_info": {
   "codemirror_mode": {
    "name": "ipython",
    "version": 3
   },
   "file_extension": ".py",
   "mimetype": "text/x-python",
   "name": "python",
   "nbconvert_exporter": "python",
   "pygments_lexer": "ipython3",
   "version": "3.6.0"
  }
 },
 "nbformat": 4,
 "nbformat_minor": 2
}
